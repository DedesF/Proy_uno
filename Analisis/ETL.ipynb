{
 "cells": [
  {
   "cell_type": "code",
   "execution_count": null,
   "metadata": {},
   "outputs": [],
   "source": [
    "#Importación de las librerías usadas en el ETL\n",
    "import pandas as pd\n",
    "import ast"
   ]
  },
  {
   "cell_type": "code",
   "execution_count": null,
   "metadata": {},
   "outputs": [],
   "source": [
    "#Carga de dataset\n",
    "df_movies = pd.read_csv('C:\\Python\\HENRY-Data-Science\\Proyecto_individual_I\\Repositorio-proyecto-I\\Proy_uno\\Datasets\\movies_dataset.csv')\n",
    "df_credits = pd.read_csv('C:\\Python\\HENRY-Data-Science\\Proyecto_individual_I\\Repositorio-proyecto-I\\Proy_uno\\Datasets\\credits.csv')"
   ]
  },
  {
   "cell_type": "code",
   "execution_count": null,
   "metadata": {},
   "outputs": [],
   "source": [
    "#Exploración de columnas he información de los datasets\n",
    "df_movies.head()"
   ]
  },
  {
   "cell_type": "code",
   "execution_count": null,
   "metadata": {},
   "outputs": [],
   "source": [
    "#Se exploran las columnas con estructura de diccionario para determinar la información que almacena\n",
    "col = df_movies['belongs_to_collection']\n",
    "type(col.iloc[0])\n",
    "\n",
    "row = col.iloc[0]\n",
    "dic = ast.literal_eval(row)\n",
    "\n",
    "df_dict = pd.DataFrame.from_dict(dic, orient='index')\n",
    "df_dict"
   ]
  },
  {
   "cell_type": "code",
   "execution_count": null,
   "metadata": {},
   "outputs": [],
   "source": [
    "#Se vuelve a cargar el dataset sólo con las columnas que son de utilidad para el proyecto\n"
   ]
  }
 ],
 "metadata": {
  "kernelspec": {
   "display_name": "Python 3",
   "language": "python",
   "name": "python3"
  },
  "language_info": {
   "name": "python",
   "version": "3.11.0"
  }
 },
 "nbformat": 4,
 "nbformat_minor": 2
}
