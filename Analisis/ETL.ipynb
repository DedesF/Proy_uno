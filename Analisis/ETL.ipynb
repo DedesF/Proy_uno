{
 "cells": [
  {
   "cell_type": "code",
   "execution_count": null,
   "metadata": {},
   "outputs": [],
   "source": [
    "#Importación de las librerías usadas en el ETL\n",
    "import pandas as pd\n",
    "import numpy as np\n",
    "import ast\n",
    "from datetime import date"
   ]
  },
  {
   "cell_type": "code",
   "execution_count": null,
   "metadata": {},
   "outputs": [],
   "source": [
    "#Carga de dataset\n",
    "df_movies = pd.read_csv('C:\\Python\\HENRY-Data-Science\\Proyecto_individual_I\\Repositorio-proyecto-I\\Proy_uno\\Datasets\\movies_dataset.csv')\n",
    "df_credits = pd.read_csv('C:\\Python\\HENRY-Data-Science\\Proyecto_individual_I\\Repositorio-proyecto-I\\Proy_uno\\Datasets\\credits.csv')"
   ]
  },
  {
   "cell_type": "code",
   "execution_count": null,
   "metadata": {},
   "outputs": [],
   "source": [
    "#Exploración de columnas he información de los datasets\n",
    "df_movies.head()"
   ]
  },
  {
   "cell_type": "code",
   "execution_count": null,
   "metadata": {},
   "outputs": [],
   "source": [
    "#Se exploran las columnas con estructura de diccionario para determinar la información que almacena para discriminar\n",
    "#si tienen información util para el proyecto\n",
    "col = df_movies['belongs_to_collection']\n",
    "row = col.iloc[0]\n",
    "dic = ast.literal_eval(row)\n",
    "\n",
    "df_dict = pd.DataFrame.from_dict(dic, orient='index')\n",
    "df_dict"
   ]
  },
  {
   "cell_type": "code",
   "execution_count": null,
   "metadata": {},
   "outputs": [],
   "source": [
    "#Se elimina las columnas que son de utilidad para el proyecto\n",
    "del_cols = ['adult', 'belongs_to_collection', 'homepage', 'imdb_id', 'original_language', 'original_title', 'overview', 'poster_path',\n",
    "'production_companies', 'production_countries', 'runtime', 'spoken_languages', 'tagline', 'video']\n",
    "\n",
    "df_movies.drop(labels=del_cols, axis=1, inplace=True)\n",
    "df_movies.head()"
   ]
  },
  {
   "cell_type": "code",
   "execution_count": null,
   "metadata": {},
   "outputs": [],
   "source": [
    "#Se verifica si existen valores nulos en las columnas 'budget' y 'revenue'\n",
    "print(df_movies['revenue'].isnull().sum())\n",
    "print(df_movies['budget'].isnull().sum())"
   ]
  },
  {
   "cell_type": "code",
   "execution_count": null,
   "metadata": {},
   "outputs": [],
   "source": [
    "df_movies['revenue'].fillna(value=0, inplace=True) #se reemplazan los valores nulos encontrados por 0"
   ]
  },
  {
   "cell_type": "code",
   "execution_count": null,
   "metadata": {},
   "outputs": [],
   "source": [
    "#Transformación de columna 'release-date' en una clase datetime y \n",
    "df_movies['release_date'] = pd.to_datetime(df_movies['release_date'], errors='coerce')\n",
    "df_movies.dropna(subset=['release_date'], inplace=True) #Se eliminan los valores nulos de la columna 'release_date'"
   ]
  },
  {
   "cell_type": "code",
   "execution_count": null,
   "metadata": {},
   "outputs": [],
   "source": [
    "#Se agrega la columna del año\n",
    "df_movies['year'] = df_movies['release_date'].dt.year.astype('Int64')"
   ]
  },
  {
   "cell_type": "code",
   "execution_count": null,
   "metadata": {},
   "outputs": [],
   "source": [
    "#Se transforma la columna 'budget' a formato numérico y se eliminan los errores\n",
    "df_movies['budget'] = pd.to_numeric(df_movies['budget'], downcast='signed', errors='coerce')\n",
    "df_movies.dropna(subset=['budget'], inplace=True)"
   ]
  },
  {
   "cell_type": "code",
   "execution_count": null,
   "metadata": {},
   "outputs": [],
   "source": [
    "#Se crea la columna 'return'\n",
    "df_movies['return'] = df_movies['revenue']/df_movies['budget']\n",
    "df_movies['return'] = df_movies['return'].replace([np.nan, np.inf], 0) #reemplazo con 0 los valores que presentan errores"
   ]
  },
  {
   "cell_type": "code",
   "execution_count": null,
   "metadata": {},
   "outputs": [],
   "source": [
    "#Desanidación de columna 'genre'\n",
    "df_generos = pd.DataFrame(columns=['genres'])   #Se crea df auxiliar\n",
    "for index_1, row_1 in df_movies.iterrows():     #Se itera sobre la columna 'genre' con la información anidada\n",
    "    x = ast.literal_eval(row_1['genres'])       #Se transforma a un objeto lista\n",
    "    df_dict = pd.DataFrame.from_dict(x)         #Se crea un df\n",
    "    \n",
    "    ls = []\n",
    "    \n",
    "    for index_2, row_2 in df_dict.iterrows():   #Se itera sobre el df_dict para extraer todos los datos de la columna 'name' y se agregan a la lista\n",
    "        ls.append(row_2['name'])\n",
    "    \n",
    "    df_generos.loc[index_1, 'genres'] = ls      #Se agrega la información al df auxiliar"
   ]
  },
  {
   "cell_type": "code",
   "execution_count": null,
   "metadata": {},
   "outputs": [],
   "source": [
    "#Se reemplazan las columnas en el df original\n",
    "df_movies.drop(labels='genres', axis=1, inplace=True)\n",
    "df_movies = pd.concat([df_movies, df_generos], axis=1)"
   ]
  }
 ],
 "metadata": {
  "kernelspec": {
   "display_name": "Python 3",
   "language": "python",
   "name": "python3"
  },
  "language_info": {
   "name": "python",
   "version": "3.11.0"
  }
 },
 "nbformat": 4,
 "nbformat_minor": 2
}
